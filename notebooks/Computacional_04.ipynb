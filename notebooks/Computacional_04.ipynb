{
 "cells": [
  {
   "cell_type": "code",
   "execution_count": 5,
   "id": "f9243aa2",
   "metadata": {},
   "outputs": [],
   "source": [
    "import numpy as np \n",
    "import matplotlib.pyplot as plt\n",
    "\n",
    "\n",
    "def my_function(f,x):\n",
    "    #using a function as an aargumentent --> f(x)\n",
    "    y =x**2 + f(x) - 3 \n",
    "    \n",
    "    return y"
   ]
  },
  {
   "cell_type": "code",
   "execution_count": 4,
   "id": "6154ccd2",
   "metadata": {},
   "outputs": [
    {
     "name": "stdout",
     "output_type": "stream",
     "text": [
      "-1.4596976941318602\n"
     ]
    }
   ],
   "source": [
    "x_1 = 1.\n",
    "\n",
    "out_1= my_function(np.cos,x_1)\n",
    "\n",
    "print(out_1)"
   ]
  },
  {
   "cell_type": "markdown",
   "id": "89409b99",
   "metadata": {},
   "source": [
    "# DATA INPUT-OUTPUT\n",
    "\n",
    "\n",
    "## Number formating: "
   ]
  },
  {
   "cell_type": "code",
   "execution_count": 6,
   "id": "ba4d4e55",
   "metadata": {},
   "outputs": [
    {
     "name": "stdout",
     "output_type": "stream",
     "text": [
      "3.14\n"
     ]
    }
   ],
   "source": [
    "#format float 2 decimal places: \n",
    "\n",
    "print(\"{:.2f}\".format(np.pi))"
   ]
  },
  {
   "cell_type": "code",
   "execution_count": 7,
   "id": "00dc0dc0",
   "metadata": {},
   "outputs": [
    {
     "name": "stdout",
     "output_type": "stream",
     "text": [
      "-3.14\n"
     ]
    }
   ],
   "source": [
    "#we can also use sings: \n",
    "\n",
    "print(\"{:.2f}\".format(-np.pi))"
   ]
  },
  {
   "cell_type": "code",
   "execution_count": 8,
   "id": "e275f3e6",
   "metadata": {},
   "outputs": [
    {
     "name": "stdout",
     "output_type": "stream",
     "text": [
      "3.142\n"
     ]
    }
   ],
   "source": [
    "#for 3 decimal points:\n",
    "\n",
    "print(\"{:.3f}\".format(np.pi))"
   ]
  },
  {
   "cell_type": "code",
   "execution_count": 13,
   "id": "735537cb",
   "metadata": {},
   "outputs": [
    {
     "name": "stdout",
     "output_type": "stream",
     "text": [
      "3.14\n"
     ]
    }
   ],
   "source": [
    "#Scientific notation: \n",
    "\n",
    "#1e --> sicietific notation with 1 decimal\n",
    "#2f --> 2 decimal places\n",
    "#3g --> 3 significant figures\n",
    "#4% --> pocentage iwth 4 decimal \n",
    "\n",
    "\n",
    "print(\"{:.3g}\".format(np.pi))"
   ]
  },
  {
   "cell_type": "code",
   "execution_count": 15,
   "id": "fce61b8e",
   "metadata": {},
   "outputs": [
    {
     "name": "stdout",
     "output_type": "stream",
     "text": [
      "3.1e+00\n"
     ]
    }
   ],
   "source": [
    "print(\"{:.1e}\".format(np.pi))"
   ]
  },
  {
   "cell_type": "code",
   "execution_count": 17,
   "id": "a35106de",
   "metadata": {},
   "outputs": [
    {
     "name": "stdout",
     "output_type": "stream",
     "text": [
      "001\n",
      "100\n"
     ]
    }
   ],
   "source": [
    "#puting zeros onto dethe left hand side of an integer: \n",
    "\n",
    "print(\"{:03d}\".format(1))   #<--- has to be an integer\n",
    "\n",
    "print(\"{:03d}\".format(100))"
   ]
  },
  {
   "cell_type": "code",
   "execution_count": 3,
   "id": "13db294a",
   "metadata": {},
   "outputs": [],
   "source": [
    "#Creating a text file: \n",
    "\n",
    "file = open(\"file.txt\",\"w\")\n",
    "\n",
    "\n",
    "file.write(\"This is a new text file.\\n\")\n",
    "\n",
    "file.close()"
   ]
  },
  {
   "cell_type": "code",
   "execution_count": 9,
   "id": "3017f02b",
   "metadata": {},
   "outputs": [],
   "source": [
    "text= open(\"file.txt\",'r')\n",
    "\n",
    "for i in text:\n",
    "    print(i)"
   ]
  },
  {
   "cell_type": "code",
   "execution_count": null,
   "id": "2540dd3d",
   "metadata": {},
   "outputs": [],
   "source": []
  }
 ],
 "metadata": {
  "kernelspec": {
   "display_name": "Python 3 (ipykernel)",
   "language": "python",
   "name": "python3"
  },
  "language_info": {
   "codemirror_mode": {
    "name": "ipython",
    "version": 3
   },
   "file_extension": ".py",
   "mimetype": "text/x-python",
   "name": "python",
   "nbconvert_exporter": "python",
   "pygments_lexer": "ipython3",
   "version": "3.7.16"
  }
 },
 "nbformat": 4,
 "nbformat_minor": 5
}
