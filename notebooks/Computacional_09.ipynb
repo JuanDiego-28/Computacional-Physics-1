{
 "cells": [
  {
   "cell_type": "code",
   "execution_count": 1,
   "id": "681bbe58",
   "metadata": {},
   "outputs": [],
   "source": [
    "import numpy as np \n",
    "import matplotlib.pyplot as plt\n",
    "import pandas as pd\n",
    "import scipy.optimize as opt "
   ]
  },
  {
   "cell_type": "code",
   "execution_count": 26,
   "id": "315b59de",
   "metadata": {},
   "outputs": [],
   "source": [
    "file_name = ('/home/jdiego/Downloads/data_pendulum.csv')\n",
    "\n",
    "df_2 = pd.read_csv(file_name)\n",
    "\n",
    "#gettig the data into pandas series: \n",
    "length  = np.array(df_2[\"Length(m)\"])\n",
    "period1 = df_2[\"Period1(s)\"]\n",
    "period2 = df_2[\"Period2(s)\"]\n",
    "period3 = df_2[\"Period3(s)\"]\n",
    "period4 = df_2[\"Period4(s)\"]\n",
    "period5 = df_2[\"Period5(s)\"]"
   ]
  },
  {
   "cell_type": "code",
   "execution_count": 27,
   "id": "47178699",
   "metadata": {},
   "outputs": [],
   "source": [
    "mean_p = []\n",
    "stdv_p = []\n",
    "\n",
    "for i in range(len(df_2[\"Period1(s)\"])):\n",
    "    #print(i)\n",
    "    mean_p.append(np.mean(np.array(df_2.iloc[i][1:])))\n",
    "    stdv_p.append(np.std(np.array(df_2.iloc[i][1:])))\n",
    "\n",
    "mean_p = np.array(mean_p) # average values\n",
    "stdv_p = np.array(stdv_p) # uncertainties\n"
   ]
  },
  {
   "cell_type": "code",
   "execution_count": 28,
   "id": "7d082d7b",
   "metadata": {},
   "outputs": [
    {
     "data": {
      "image/png": "[encoded data removed]",
      "text/plain": [
       "<Figure size 640x480 with 1 Axes>"
      ]
     },
     "metadata": {},
     "output_type": "display_data"
    }
   ],
   "source": [
    "#Plotting: \n",
    "\n",
    "fig, ax = plt.subplots()\n",
    "plt.plot(length, mean_p, linestyle = \" \", marker = \"+\")\n",
    "ax.errorbar(length, mean_p, yerr = 3*stdv_p, linestyle = \" \")\n",
    "\n",
    "plt.xlabel(r\"$L (m)$\")\n",
    "plt.ylabel(r\"$T (s)$\")\n",
    "\n",
    "plt.show()"
   ]
  },
  {
   "cell_type": "markdown",
   "id": "56988c49",
   "metadata": {},
   "source": [
    "### Let's use the X^2 function"
   ]
  },
  {
   "cell_type": "code",
   "execution_count": 29,
   "id": "e515c765",
   "metadata": {},
   "outputs": [],
   "source": [
    "def chi_sqr_function(beta):\n",
    "    '''\n",
    "    This function allows to return the chi_sqr_function.It allows to compare the experimetal \n",
    "    data with the model based\n",
    "    INPUT:beta\n",
    "    OUTPUT: chi_sqr_statistic\n",
    "    '''\n",
    "    model = beta*np.sqrt(length)\n",
    "    \n",
    "    chisqr = np.sum(mean_p - (model**2)/(stdv_p)**2)\n",
    "    \n",
    "    return chisqr"
   ]
  },
  {
   "cell_type": "markdown",
   "id": "cf505c9f",
   "metadata": {},
   "source": [
    "##### Let's do the optimazation "
   ]
  },
  {
   "cell_type": "code",
   "execution_count": 30,
   "id": "31f96da9",
   "metadata": {},
   "outputs": [
    {
     "name": "stdout",
     "output_type": "stream",
     "text": [
      "[0.28723145]\n"
     ]
    }
   ],
   "source": [
    "#Defining the initial guess: \n",
    "x_0 = np.array((0))\n",
    "\n",
    "# Call the minimazation routine: \n",
    "result_object = opt.minimize (chi_sqr_function,x_0)\n",
    "\n",
    "print(result_object.x)"
   ]
  },
  {
   "cell_type": "code",
   "execution_count": 25,
   "id": "f8300fe4",
   "metadata": {},
   "outputs": [
    {
     "name": "stdout",
     "output_type": "stream",
     "text": [
      "-1538.5587150128986\n"
     ]
    }
   ],
   "source": [
    "chisqr_statistic = chi_sqr_function(result_object.x)\n",
    "\n",
    "print(chisqr_statistic)"
   ]
  },
  {
   "cell_type": "code",
   "execution_count": null,
   "id": "324b8ef2",
   "metadata": {},
   "outputs": [],
   "source": []
  }
 ],
 "metadata": {
  "kernelspec": {
   "display_name": "Python 3 (ipykernel)",
   "language": "python",
   "name": "python3"
  },
  "language_info": {
   "codemirror_mode": {
    "name": "ipython",
    "version": 3
   },
   "file_extension": ".py",
   "mimetype": "text/x-python",
   "name": "python",
   "nbconvert_exporter": "python",
   "pygments_lexer": "ipython3",
   "version": "3.10.9"
  }
 },
 "nbformat": 4,
 "nbformat_minor": 5
}
