{
 "cells": [
  {
   "cell_type": "code",
   "execution_count": 31,
   "id": "f7ce2f12",
   "metadata": {},
   "outputs": [],
   "source": [
    "import pandas as pd\n",
    "import numpy as np\n",
    "\n",
    "import matplotlib.pyplot as plt"
   ]
  },
  {
   "cell_type": "code",
   "execution_count": 11,
   "id": "7ec0d385",
   "metadata": {},
   "outputs": [],
   "source": [
    "data = pd.read_csv(\"/home/jdiego/Downloads/data_1.dat\" , sep = '\\s+')"
   ]
  },
  {
   "cell_type": "code",
   "execution_count": 12,
   "id": "40abd8aa",
   "metadata": {},
   "outputs": [
    {
     "name": "stdout",
     "output_type": "stream",
     "text": [
      "         Time     Mass1     FluxH      FluxE\n",
      "0    0.000000  61.18026  8.262365   8.262365\n",
      "1    0.099800  61.18028  8.262365   8.262365\n",
      "2    0.199956  61.18033  8.262365   8.262365\n",
      "3    0.299681  61.18041  7.561459   8.262365\n",
      "4    0.399916  61.18043  7.927189   8.262365\n",
      "..        ...       ...       ...        ...\n",
      "96   9.599985  23.29446  8.262365  10.585580\n",
      "97   9.699971  20.33465  8.262365  11.147210\n",
      "98   9.799818  17.66679  8.262365  12.601620\n",
      "99   9.899956  15.14736  8.262365  12.675020\n",
      "100  9.999821  12.79309  8.262365  12.691090\n",
      "\n",
      "[101 rows x 4 columns]\n"
     ]
    }
   ],
   "source": [
    "print(data)"
   ]
  },
  {
   "cell_type": "code",
   "execution_count": 14,
   "id": "0b22ba6a",
   "metadata": {},
   "outputs": [
    {
     "name": "stdout",
     "output_type": "stream",
     "text": [
      "Index(['Time', 'Mass1', 'FluxH', 'FluxE'], dtype='object')\n"
     ]
    }
   ],
   "source": [
    "keys=data.keys()  # \n",
    "\n",
    "print(keys)"
   ]
  },
  {
   "cell_type": "code",
   "execution_count": 16,
   "id": "77598041",
   "metadata": {},
   "outputs": [],
   "source": [
    "time= data[keys[0]]\n",
    "\n",
    "mass = data[keys[1]]\n",
    "\n",
    "flux = data[keys[2]]\n",
    "\n",
    "flux_e = data[keys[3]]"
   ]
  },
  {
   "cell_type": "code",
   "execution_count": 32,
   "id": "003b979d",
   "metadata": {},
   "outputs": [
    {
     "data": {
      "image/png": "[encoded data removed]",
      "text/plain": [
       "<Figure size 640x480 with 1 Axes>"
      ]
     },
     "metadata": {},
     "output_type": "display_data"
    }
   ],
   "source": [
    "plt.figure()\n",
    "\n",
    "plt.plot(time, mass)\n",
    "\n",
    "plt.xlabel(r\"$t$\")\n",
    "plt.ylabel(r\"$m_c$\")\n",
    "\n",
    "plt.show()"
   ]
  },
  {
   "cell_type": "markdown",
   "id": "38a6f7bd",
   "metadata": {},
   "source": [
    "# FUNCTIONS I/O"
   ]
  },
  {
   "cell_type": "code",
   "execution_count": 20,
   "id": "3ad2d82d",
   "metadata": {},
   "outputs": [],
   "source": [
    "def io_data(file_name):\n",
    "    \"\"\"\n",
    "    Input: Recives a file\n",
    "    Output: retunr the time,mass, flux and flux_e\n",
    "    \"\"\"\n",
    "    data = pd.read_csv(file_name , sep = '\\s+')\n",
    "    \n",
    "    #getting the keys of the file\n",
    "    keys= data.keys()\n",
    "    \n",
    "    #data into pandas.series:\n",
    "    time= data[keys[0]]\n",
    "    mass = data[keys[1]]\n",
    "    flux = data[keys[2]]\n",
    "    flux_e = data[keys[3]]\n",
    "    \n",
    "    #Pandasa obj to array:\n",
    "    time=np.array(time)\n",
    "    mass=np.array(mass)\n",
    "    flux=np.array(flux)\n",
    "    flux_e =np.array(flux_e )\n",
    "    \n",
    "    #return output\n",
    "    return time, mass, flux, flux_e"
   ]
  },
  {
   "cell_type": "code",
   "execution_count": 21,
   "id": "d920fcbf",
   "metadata": {},
   "outputs": [],
   "source": [
    "file_name = \"/home/jdiego/Downloads/data_1.dat\" \n",
    "\n",
    "time, mass, flux, flux_e = io_data(file_name)"
   ]
  },
  {
   "cell_type": "markdown",
   "id": "9dfac3d8",
   "metadata": {},
   "source": [
    "# DATA ANALYSIS:"
   ]
  },
  {
   "cell_type": "code",
   "execution_count": 28,
   "id": "571c3a23",
   "metadata": {},
   "outputs": [
    {
     "name": "stdout",
     "output_type": "stream",
     "text": [
      "         time_s   mass_kg\n",
      "0      0.000000  0.061180\n",
      "1      5.988010  0.061180\n",
      "2     11.997336  0.061180\n",
      "3     17.980860  0.061180\n",
      "4     23.994960  0.061180\n",
      "..          ...       ...\n",
      "96   575.999100  0.023294\n",
      "97   581.998260  0.020335\n",
      "98   587.989080  0.017667\n",
      "99   593.997360  0.015147\n",
      "100  599.989260  0.012793\n",
      "\n",
      "[101 rows x 2 columns]\n"
     ]
    }
   ],
   "source": [
    "# transdorm time vecotr in seconds: \n",
    "t_s = time*60\n",
    "\n",
    "#Multiply the mass vector --> kilograms:\n",
    "m_k = mass/1000\n",
    "\n",
    "#Creating a data frame with Pandas:\n",
    "# We need the keys and the data\n",
    "\n",
    "new_df= pd.DataFrame({\"time_s\": t_s, \"mass_kg\": m_k})\n",
    "\n",
    "print(new_df)"
   ]
  },
  {
   "cell_type": "code",
   "execution_count": 29,
   "id": "1258d267",
   "metadata": {},
   "outputs": [],
   "source": [
    "#Saving it as a csv file:\n",
    "new_df.to_csv(\"new_data_1.csv\",',',float_format = \"(:.4e)\".format)"
   ]
  },
  {
   "cell_type": "code",
   "execution_count": 30,
   "id": "0356bf35",
   "metadata": {},
   "outputs": [
    {
     "name": "stdout",
     "output_type": "stream",
     "text": [
      " anaconda3\t\t\t      Music\r\n",
      " Computacional_2.ipynb\t\t      new_data_1.csv\r\n",
      " Computacional_3.ipynb\t\t      oracle_vbox_2016.asc\r\n",
      " Computacional_4.ipynb\t\t      Pictures\r\n",
      " Computacional_5.ipynb\t\t      Public\r\n",
      " Computational_1.ipynb\t\t     'Quantum Computing (Lesson 1) .ipynb'\r\n",
      " Desktop\t\t\t     'Quantum ML (Intro lesson) .ipynb'\r\n",
      " Documents\t\t\t      snap\r\n",
      " Downloads\t\t\t      Templates\r\n",
      " file.txt\t\t\t      Videos\r\n",
      "'Machine Leaning (Lesson 1) .ipynb'  'VirtualBox VMs'\r\n"
     ]
    }
   ],
   "source": [
    "!ls"
   ]
  },
  {
   "cell_type": "code",
   "execution_count": 33,
   "id": "fc4d0bea",
   "metadata": {},
   "outputs": [
    {
     "data": {
      "text/plain": [
       "'/home/jdiego'"
      ]
     },
     "execution_count": 33,
     "metadata": {},
     "output_type": "execute_result"
    }
   ],
   "source": [
    "pwd"
   ]
  },
  {
   "cell_type": "code",
   "execution_count": null,
   "id": "5d54262c",
   "metadata": {},
   "outputs": [],
   "source": []
  }
 ],
 "metadata": {
  "kernelspec": {
   "display_name": "Python 3 (ipykernel)",
   "language": "python",
   "name": "python3"
  },
  "language_info": {
   "codemirror_mode": {
    "name": "ipython",
    "version": 3
   },
   "file_extension": ".py",
   "mimetype": "text/x-python",
   "name": "python",
   "nbconvert_exporter": "python",
   "pygments_lexer": "ipython3",
   "version": "3.10.9"
  }
 },
 "nbformat": 4,
 "nbformat_minor": 5
}
