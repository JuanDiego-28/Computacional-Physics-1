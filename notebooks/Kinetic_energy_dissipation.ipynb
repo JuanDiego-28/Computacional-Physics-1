{
 "cells": [
  {
   "cell_type": "code",
   "execution_count": 1,
   "id": "1d274b15",
   "metadata": {},
   "outputs": [
    {
     "name": "stdout",
     "output_type": "stream",
     "text": [
      "Collecting netcdf4\n",
      "  Downloading netCDF4-1.6.3-cp310-cp310-manylinux_2_17_x86_64.manylinux2014_x86_64.whl (5.2 MB)\n",
      "\u001b[2K     \u001b[38;2;114;156;31m━━━━━━━━━━━━━━━━━━━━━━━━━━━━━━━━━━━━━━━━\u001b[0m \u001b[32m5.2/5.2 MB\u001b[0m \u001b[31m752.6 kB/s\u001b[0m eta \u001b[36m0:00:00\u001b[0mm eta \u001b[36m0:00:01\u001b[0m[36m0:00:01\u001b[0m\n",
      "\u001b[?25hRequirement already satisfied: numpy in ./anaconda3/lib/python3.10/site-packages (from netcdf4) (1.23.5)\n",
      "Collecting cftime\n",
      "  Downloading cftime-1.6.2-cp310-cp310-manylinux_2_17_x86_64.manylinux2014_x86_64.whl (1.2 MB)\n",
      "\u001b[2K     \u001b[38;2;114;156;31m━━━━━━━━━━━━━━━━━━━━━━━━━━━━━━━━━━━━━━━━\u001b[0m \u001b[32m1.2/1.2 MB\u001b[0m \u001b[31m2.9 MB/s\u001b[0m eta \u001b[36m0:00:00\u001b[0mm eta \u001b[36m0:00:01\u001b[0m0:01\u001b[0m:01\u001b[0m\n",
      "\u001b[?25hInstalling collected packages: cftime, netcdf4\n",
      "Successfully installed cftime-1.6.2 netcdf4-1.6.3\n"
     ]
    }
   ],
   "source": [
    "! pip install netcdf4"
   ]
  },
  {
   "cell_type": "code",
   "execution_count": 3,
   "id": "9378e8e3",
   "metadata": {},
   "outputs": [],
   "source": [
    "import numpy as np\n",
    "import matplotlib as mpl\n",
    "import matplotlib.colors as colors\n",
    "import matplotlib.pyplot as plt\n",
    "from netCDF4 import Dataset"
   ]
  },
  {
   "cell_type": "code",
   "execution_count": 9,
   "id": "ea2ae9a4",
   "metadata": {},
   "outputs": [],
   "source": [
    "f1 = Dataset('/home/jdiego/Downloads/turb2d16x8fs.nc', mode = 'r')\n",
    "\n",
    "dissipation = f1.variables['dissipation'][:,:,:]\n",
    "\n",
    "x = f1.variables['x'][:]\n",
    "y = f1.variables['y'][:]\n",
    "#print(dissipation)"
   ]
  },
  {
   "cell_type": "code",
   "execution_count": 15,
   "id": "89e90ec1",
   "metadata": {},
   "outputs": [
    {
     "data": {
      "text/plain": [
       "\"for k in range (0,n[0]):\\n    fig,ax =plt.subplots(1,1,figsize=(8,8))\\n    cs1 = ax.contourf(x,y,dissipation[k,:,:],\\n                      np.logspace(-5,1,101), cmap='Blues_r',\\n                     extend ='both',norm = colors.LogNorm())\\n    ax.set_aspect('equal')\\n    ax.xaxis.set_ticks(range(0,7))\\n    ax.yaxis.set_ticks(range(0,7))\\n    ax.set_xlabel(r'$x$')\\n    ax.set_ylabel(r'$y$')\\n    plt.show()\""
      ]
     },
     "execution_count": 15,
     "metadata": {},
     "output_type": "execute_result"
    }
   ],
   "source": [
    "n = dissipation.shape\n",
    "#print(n)\n",
    "\n",
    "for k in range (0,n[0]):\n",
    "    fig,ax =plt.subplots(1,1,figsize=(8,8))\n",
    "    cs1 = ax.contourf(x,y,dissipation[k,:,:],\n",
    "                      np.logspace(-5,1,101), cmap='Blues_r',\n",
    "                     extend ='both',norm = colors.LogNorm())\n",
    "    ax.set_aspect('equal')\n",
    "    ax.xaxis.set_ticks(range(0,7))\n",
    "    ax.yaxis.set_ticks(range(0,7))\n",
    "    ax.set_xlabel(r'$x$')\n",
    "    ax.set_ylabel(r'$y$')\n",
    "    plt.show()"
   ]
  },
  {
   "cell_type": "code",
   "execution_count": null,
   "id": "5f37804d",
   "metadata": {},
   "outputs": [],
   "source": []
  }
 ],
 "metadata": {
  "kernelspec": {
   "display_name": "Python 3 (ipykernel)",
   "language": "python",
   "name": "python3"
  },
  "language_info": {
   "codemirror_mode": {
    "name": "ipython",
    "version": 3
   },
   "file_extension": ".py",
   "mimetype": "text/x-python",
   "name": "python",
   "nbconvert_exporter": "python",
   "pygments_lexer": "ipython3",
   "version": "3.10.9"
  }
 },
 "nbformat": 4,
 "nbformat_minor": 5
}
