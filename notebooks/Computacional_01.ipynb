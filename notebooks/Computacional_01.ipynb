{
 "cells": [
  {
   "cell_type": "markdown",
   "id": "2dc42400",
   "metadata": {},
   "source": [
    "## SETS: "
   ]
  },
  {
   "cell_type": "code",
   "execution_count": 1,
   "id": "0676bef0",
   "metadata": {},
   "outputs": [
    {
     "data": {
      "text/plain": [
       "{1, 2, 3, 4, 5, 6, 7}"
      ]
     },
     "execution_count": 1,
     "metadata": {},
     "output_type": "execute_result"
    }
   ],
   "source": [
    "#Sets: \n",
    "#To define the sets we use {}.We can do Unions, Intesersections, DIfferences ,etc\n",
    "\n",
    "{1,2,3,4,4,5,6,6,7,7,7}\n"
   ]
  },
  {
   "cell_type": "code",
   "execution_count": 3,
   "id": "ab08127b",
   "metadata": {},
   "outputs": [
    {
     "name": "stdout",
     "output_type": "stream",
     "text": [
      "<class 'set'>\n"
     ]
    }
   ],
   "source": [
    "print(type({1,2,3,4,4,5,6,6,7,7,7}))"
   ]
  },
  {
   "cell_type": "code",
   "execution_count": 4,
   "id": "dffdd678",
   "metadata": {},
   "outputs": [
    {
     "name": "stdout",
     "output_type": "stream",
     "text": [
      "{1, 2, 3, 4, 5, 6, 7}\n"
     ]
    }
   ],
   "source": [
    "set_1= set({1,2,3,4,4,5,6,6,7,7,7})   #Set function will give the unique elements:\n",
    "print(set_1)"
   ]
  },
  {
   "cell_type": "code",
   "execution_count": 5,
   "id": "02ae410f",
   "metadata": {},
   "outputs": [
    {
     "name": "stdout",
     "output_type": "stream",
     "text": [
      "{1, 2, 3, 4, 5, 6, 7}\n"
     ]
    }
   ],
   "source": [
    "set_2= set((1,2,3,4,4,5,6,6,7,7,7)) #This is for tuples\n",
    "print(set_2)"
   ]
  },
  {
   "cell_type": "code",
   "execution_count": 8,
   "id": "01e79af7",
   "metadata": {},
   "outputs": [
    {
     "name": "stdout",
     "output_type": "stream",
     "text": [
      "{1, 3, 5, 6}\n"
     ]
    }
   ],
   "source": [
    "set_4 = set([1,3,5,6])\n",
    "print(set_4)"
   ]
  },
  {
   "cell_type": "code",
   "execution_count": 6,
   "id": "d2086a09",
   "metadata": {},
   "outputs": [
    {
     "name": "stdout",
     "output_type": "stream",
     "text": [
      "{'Y', 'a', 'y', 'h', 'c'}\n"
     ]
    }
   ],
   "source": [
    "#For strings: \n",
    "\n",
    "set_3= set('Yachay')\n",
    "print(set_3)"
   ]
  },
  {
   "cell_type": "code",
   "execution_count": 9,
   "id": "de9ba693",
   "metadata": {},
   "outputs": [
    {
     "data": {
      "text/plain": [
       "{1, 3, 5, 6}"
      ]
     },
     "execution_count": 9,
     "metadata": {},
     "output_type": "execute_result"
    }
   ],
   "source": [
    "set_2.intersection(set_4)   #Will give as output the intersecting objects"
   ]
  },
  {
   "cell_type": "markdown",
   "id": "de3b2ce8",
   "metadata": {},
   "source": [
    "# DICTIONARIES:"
   ]
  },
  {
   "cell_type": "code",
   "execution_count": 11,
   "id": "0652375e",
   "metadata": {},
   "outputs": [
    {
     "name": "stdout",
     "output_type": "stream",
     "text": [
      "<class 'dict'>\n"
     ]
    }
   ],
   "source": [
    "#Dictionaries:\n",
    "\n",
    "dict_1= {'CP1':7, 'QM1':6, \"GR\":8}\n",
    "\n",
    "print(type(dict_1))"
   ]
  },
  {
   "cell_type": "code",
   "execution_count": 12,
   "id": "44af9912",
   "metadata": {},
   "outputs": [
    {
     "name": "stdout",
     "output_type": "stream",
     "text": [
      "6\n"
     ]
    }
   ],
   "source": [
    "print(dict_1['QM1'])"
   ]
  },
  {
   "cell_type": "code",
   "execution_count": 20,
   "id": "73aca38c",
   "metadata": {},
   "outputs": [
    {
     "data": {
      "text/plain": [
       "dict_keys(['CP1', 'QM1', 'GR', ('ED', 'CM'), 'ED', 'CM'])"
      ]
     },
     "execution_count": 20,
     "metadata": {},
     "output_type": "execute_result"
    }
   ],
   "source": [
    "#With keys() you get all the keys of the dictionarie\n",
    "\n",
    "dict_1.keys()"
   ]
  },
  {
   "cell_type": "code",
   "execution_count": 18,
   "id": "73ac0b75",
   "metadata": {},
   "outputs": [],
   "source": [
    "dict_1.update({'ED':4,'CM':5})     #update({}) allows to add new keys and values to the dict "
   ]
  },
  {
   "cell_type": "code",
   "execution_count": 19,
   "id": "878e6379",
   "metadata": {},
   "outputs": [
    {
     "name": "stdout",
     "output_type": "stream",
     "text": [
      "{'CP1': 7, 'QM1': 6, 'GR': 8, ('ED', 'CM'): (4, 5), 'ED': 4, 'CM': 5}\n"
     ]
    }
   ],
   "source": [
    "print(dict_1)"
   ]
  },
  {
   "cell_type": "markdown",
   "id": "6ae91d4d",
   "metadata": {},
   "source": [
    "## NUMPY ARRAYS"
   ]
  },
  {
   "cell_type": "code",
   "execution_count": 21,
   "id": "4ec9937c",
   "metadata": {},
   "outputs": [],
   "source": [
    "#Good for handing data\n",
    "\n",
    "import numpy as np"
   ]
  },
  {
   "cell_type": "code",
   "execution_count": 22,
   "id": "6f532c0b",
   "metadata": {},
   "outputs": [
    {
     "name": "stdout",
     "output_type": "stream",
     "text": [
      "<class 'tuple'> <class 'numpy.ndarray'>\n"
     ]
    }
   ],
   "source": [
    "a = (5.,6.,7,)\n",
    "a_rr = np.array(a)  #the array function converts the object into an array\n",
    "\n",
    "print(type(a),type(a_rr))"
   ]
  },
  {
   "cell_type": "code",
   "execution_count": 23,
   "id": "228ae929",
   "metadata": {},
   "outputs": [
    {
     "data": {
      "text/plain": [
       "6.0"
      ]
     },
     "execution_count": 23,
     "metadata": {},
     "output_type": "execute_result"
    }
   ],
   "source": [
    "a_rr[1]"
   ]
  },
  {
   "cell_type": "code",
   "execution_count": 24,
   "id": "84534cbd",
   "metadata": {},
   "outputs": [],
   "source": [
    "b_list = [50.,60.,70.]\n",
    "b_rr = np.array(b_list) "
   ]
  },
  {
   "cell_type": "code",
   "execution_count": 27,
   "id": "83d19ac3",
   "metadata": {},
   "outputs": [
    {
     "name": "stdout",
     "output_type": "stream",
     "text": [
      "[1. 2. 3.]\n",
      "[1.+0.j 2.+0.j 3.+0.j]\n"
     ]
    }
   ],
   "source": [
    "# Define the datatype when converting to arrays !!! \n",
    "\n",
    "c_array= np.array([1.,2.,3.],dtype =np.float32)\n",
    "\n",
    "#For complex numbers: \n",
    "\n",
    "b_array= np.array([1.,2.,3.],dtype =complex)\n",
    "\n",
    "print(c_array)\n",
    "\n",
    "print(b_array)"
   ]
  },
  {
   "cell_type": "code",
   "execution_count": 29,
   "id": "f1cd47bf",
   "metadata": {},
   "outputs": [],
   "source": [
    "import matplotlib.pyplot as plt "
   ]
  },
  {
   "cell_type": "code",
   "execution_count": 32,
   "id": "4ec4d047",
   "metadata": {},
   "outputs": [
    {
     "name": "stdout",
     "output_type": "stream",
     "text": [
      "[0.  0.1 0.2 0.3 0.4 0.5 0.6 0.7 0.8 0.9]\n",
      "[0.  0.1 0.2 0.3 0.4 0.5 0.6 0.7 0.8 0.9 1. ]\n"
     ]
    }
   ],
   "source": [
    "# to generate vector we can use: np.linspace() and np.arange()\n",
    "# This is with arange with takes the stpes\n",
    "x_axis= np.arange(0.,1.,0.1)\n",
    "\n",
    "print(x_axis)\n",
    "# This is with arange with takes the # of elements\n",
    "y_axis= np.linspace(0.,1.,11)\n",
    "\n",
    "print(y_axis)"
   ]
  },
  {
   "cell_type": "code",
   "execution_count": null,
   "id": "e9dbc44f",
   "metadata": {},
   "outputs": [],
   "source": []
  }
 ],
 "metadata": {
  "kernelspec": {
   "display_name": "Python 3 (ipykernel)",
   "language": "python",
   "name": "python3"
  },
  "language_info": {
   "codemirror_mode": {
    "name": "ipython",
    "version": 3
   },
   "file_extension": ".py",
   "mimetype": "text/x-python",
   "name": "python",
   "nbconvert_exporter": "python",
   "pygments_lexer": "ipython3",
   "version": "3.7.16"
  }
 },
 "nbformat": 4,
 "nbformat_minor": 5
}
